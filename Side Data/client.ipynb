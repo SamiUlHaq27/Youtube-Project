{
 "cells": [
  {
   "cell_type": "code",
   "execution_count": 4,
   "metadata": {},
   "outputs": [],
   "source": [
    "import requests\n",
    "import json"
   ]
  },
  {
   "cell_type": "code",
   "execution_count": 5,
   "metadata": {},
   "outputs": [],
   "source": [
    "endpoint = \"http://127.0.0.1:8000/\"\n",
    "video = \"https://youtu.be/WclTLasu0gQ?si=qquSE0vCo4juIMO6\"\n",
    "playlist = \"https://youtube.com/playlist?list=PLT1rvk7Trkw6txGo58goY2a6U341h9EqB&si=YxxZaG7MpmPKMcwR\""
   ]
  },
  {
   "cell_type": "code",
   "execution_count": 3,
   "metadata": {},
   "outputs": [],
   "source": [
    "res = requests.post(\n",
    "    url=endpoint+\"video/\",\n",
    "    data={\"video\":video}\n",
    ")"
   ]
  },
  {
   "cell_type": "code",
   "execution_count": 6,
   "metadata": {},
   "outputs": [],
   "source": [
    "with open('My API Video Response.json','w') as f:\n",
    "    json.dump(res.json(),f,indent=2)"
   ]
  },
  {
   "cell_type": "code",
   "execution_count": 6,
   "metadata": {},
   "outputs": [],
   "source": [
    "res = requests.post(\n",
    "    url=endpoint+\"playlist/\",\n",
    "    data={\"playlist\":playlist}\n",
    ")"
   ]
  },
  {
   "cell_type": "code",
   "execution_count": 9,
   "metadata": {},
   "outputs": [],
   "source": [
    "with open('My API Playlist Response.json','w') as f:\n",
    "    json.dump(res.json(),f,indent=2)"
   ]
  }
 ],
 "metadata": {
  "kernelspec": {
   "display_name": "venv",
   "language": "python",
   "name": "python3"
  },
  "language_info": {
   "codemirror_mode": {
    "name": "ipython",
    "version": 3
   },
   "file_extension": ".py",
   "mimetype": "text/x-python",
   "name": "python",
   "nbconvert_exporter": "python",
   "pygments_lexer": "ipython3",
   "version": "3.10.12"
  }
 },
 "nbformat": 4,
 "nbformat_minor": 2
}
